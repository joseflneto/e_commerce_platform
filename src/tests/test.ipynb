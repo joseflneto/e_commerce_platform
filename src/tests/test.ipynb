{
 "cells": [
  {
   "cell_type": "code",
   "execution_count": 19,
   "metadata": {},
   "outputs": [
    {
     "name": "stdout",
     "output_type": "stream",
     "text": [
      "Register: {'message': 'User registered successfully.'}\n"
     ]
    }
   ],
   "source": [
    "import requests\n",
    "\n",
    "url = 'http://localhost:8080/register'\n",
    "payload = {\n",
    "    'username': 'user3',\n",
    "    'password': 'pass123'\n",
    "}\n",
    "response = requests.post(url, json=payload)\n",
    "print('Register:', response.json())"
   ]
  },
  {
   "cell_type": "code",
   "execution_count": 22,
   "metadata": {},
   "outputs": [
    {
     "name": "stdout",
     "output_type": "stream",
     "text": [
      "Add to Cart: {'message': 'Product added to cart.'}\n"
     ]
    }
   ],
   "source": [
    "import requests\n",
    "\n",
    "url = 'http://localhost:8080/add_to_cart'\n",
    "payload = {\n",
    "    'username': 'user1',\n",
    "    'product_id': '2'\n",
    "}\n",
    "response = requests.post(url, json=payload)\n",
    "print('Add to Cart:', response.json())"
   ]
  },
  {
   "cell_type": "code",
   "execution_count": 8,
   "metadata": {},
   "outputs": [
    {
     "name": "stdout",
     "output_type": "stream",
     "text": [
      "Place Order: {'order_id': 2}\n"
     ]
    }
   ],
   "source": [
    "import requests\n",
    "\n",
    "url = 'http://localhost:8080/place_order'\n",
    "payload = {\n",
    "    'username': 'user1'\n",
    "}\n",
    "response = requests.post(url, json=payload)\n",
    "print('Place Order:', response.json())"
   ]
  },
  {
   "cell_type": "code",
   "execution_count": 21,
   "metadata": {},
   "outputs": [
    {
     "name": "stdout",
     "output_type": "stream",
     "text": [
      "Cart: ['1']\n"
     ]
    }
   ],
   "source": [
    "import requests\n",
    "\n",
    "url = 'http://localhost:8080/cart?username=user1'\n",
    "response = requests.get(url)\n",
    "print('Cart:', response.json())"
   ]
  },
  {
   "cell_type": "code",
   "execution_count": 10,
   "metadata": {},
   "outputs": [
    {
     "name": "stdout",
     "output_type": "stream",
     "text": [
      "Orders: {'orders': {'1': {'products': ['1'], 'username': 'user1'}, '2': {'products': ['1'], 'username': 'user1'}}}\n"
     ]
    }
   ],
   "source": [
    "import requests\n",
    "\n",
    "url = 'http://localhost:8080/orders?username=user1'\n",
    "response = requests.get(url)\n",
    "print('Orders:', response.json())"
   ]
  },
  {
   "cell_type": "code",
   "execution_count": 12,
   "metadata": {},
   "outputs": [
    {
     "name": "stdout",
     "output_type": "stream",
     "text": [
      "Clear All: {'message': 'All files have been cleared.'}\n"
     ]
    }
   ],
   "source": [
    "import requests\n",
    "\n",
    "url = 'http://localhost:8080/clear_all'\n",
    "response = requests.post(url)\n",
    "print('Clear All:', response.json())"
   ]
  }
 ],
 "metadata": {
  "kernelspec": {
   "display_name": "base",
   "language": "python",
   "name": "python3"
  },
  "language_info": {
   "codemirror_mode": {
    "name": "ipython",
    "version": 3
   },
   "file_extension": ".py",
   "mimetype": "text/x-python",
   "name": "python",
   "nbconvert_exporter": "python",
   "pygments_lexer": "ipython3",
   "version": "3.10.14"
  }
 },
 "nbformat": 4,
 "nbformat_minor": 2
}
